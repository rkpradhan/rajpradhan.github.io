{
  "nbformat": 4,
  "nbformat_minor": 0,
  "metadata": {
    "colab": {
      "name": "galahdr3.ipynb",
      "private_outputs": true,
      "provenance": [],
      "toc_visible": true,
      "include_colab_link": true
    },
    "kernelspec": {
      "name": "python3",
      "display_name": "Python 3"
    },
    "accelerator": "TPU"
  },
  "cells": [
    {
      "cell_type": "markdown",
      "metadata": {
        "id": "view-in-github",
        "colab_type": "text"
      },
      "source": [
        "<a href=\"https://colab.research.google.com/github/rkpradhan/rkpradhan.github.io/blob/master/galahdr3.ipynb\" target=\"_parent\"><img src=\"https://colab.research.google.com/assets/colab-badge.svg\" alt=\"Open In Colab\"/></a>"
      ]
    },
    {
      "cell_type": "code",
      "metadata": {
        "id": "oLrJ7rZUtueV"
      },
      "source": [
        "#!pip install vaex\n",
        "#!pip install --upgrade ipython"
      ],
      "execution_count": null,
      "outputs": []
    },
    {
      "cell_type": "code",
      "metadata": {
        "id": "jJ9M3StKuCVg"
      },
      "source": [
        "import vaex"
      ],
      "execution_count": null,
      "outputs": []
    },
    {
      "cell_type": "code",
      "metadata": {
        "id": "4VS13I1EiT6o"
      },
      "source": [
        "#!pip install galpy "
      ],
      "execution_count": null,
      "outputs": []
    },
    {
      "cell_type": "code",
      "metadata": {
        "id": "4sUb7JstiYAU"
      },
      "source": [
        "import numpy as np \n",
        "import matplotlib.pyplot as plt \n",
        "import pandas as pd\n"
      ],
      "execution_count": null,
      "outputs": []
    },
    {
      "cell_type": "code",
      "metadata": {
        "id": "w4hEEMwOkR1I"
      },
      "source": [
        "from astropy.io import ascii \n",
        "from astropy.table import Table, vstack, hstack,  join\n",
        "import astropy.units as u\n",
        "import astropy.coordinates as coord \n"
      ],
      "execution_count": null,
      "outputs": []
    },
    {
      "cell_type": "code",
      "metadata": {
        "id": "Jkl0C273qmk0"
      },
      "source": [
        "# Matplotlib packages\n",
        "import matplotlib.pyplot as plt\n",
        "from matplotlib.colors import LogNorm\n",
        "params = {\n",
        "    'font.family'        : 'sans',\n",
        "    'font.size'          : 17,\n",
        "    'axes.labelsize'     : 20,\n",
        "    'ytick.labelsize'    : 16,\n",
        "    'xtick.labelsize'    : 16,\n",
        "    'legend.fontsize'    : 20,\n",
        "    'text.usetex'        : False, \n",
        "    'text.latex.preamble': [r'\\usepackage{upgreek}', r'\\usepackage{amsmath}'],\n",
        "    }   \n",
        "plt.rcParams.update(params)"
      ],
      "execution_count": null,
      "outputs": []
    },
    {
      "cell_type": "code",
      "metadata": {
        "id": "nLp_n5xteS7-"
      },
      "source": [
        "import matplotlib.pyplot \n",
        "matplotlib.rcParams['text.usetex']=False\n",
        "matplotlib.rcParams['text.latex.unicode']=False "
      ],
      "execution_count": null,
      "outputs": []
    },
    {
      "cell_type": "code",
      "metadata": {
        "id": "e7uDr6HJiv-L"
      },
      "source": [
        "#!wget https://datacentral.org.au/teamdata/GALAH/public/GALAH_DR3/GALAH_DR3_VAC_dynamics_v1.fits\n"
      ],
      "execution_count": null,
      "outputs": []
    },
    {
      "cell_type": "code",
      "metadata": {
        "id": "racB1g64jDaF"
      },
      "source": [
        "#!wget https://datacentral.org.au/teamdata/GALAH/public/GALAH_DR3/GALAH_DR3_main_allspec_v1.fits"
      ],
      "execution_count": null,
      "outputs": []
    },
    {
      "cell_type": "code",
      "metadata": {
        "id": "y7pDSEhAjVwI"
      },
      "source": [
        "#df = Table.read(\"/content/GALAH_DR3_VAC_dynamics_v1.fits\")"
      ],
      "execution_count": null,
      "outputs": []
    },
    {
      "cell_type": "code",
      "metadata": {
        "id": "_youQBn8rGo1"
      },
      "source": [
        "!ls "
      ],
      "execution_count": null,
      "outputs": []
    },
    {
      "cell_type": "code",
      "metadata": {
        "id": "q4S8rO4994E_"
      },
      "source": [
        "# df1 = Table.read('/content/GALAH_DR3_main_allspec_v1.fits')\n"
      ],
      "execution_count": null,
      "outputs": []
    },
    {
      "cell_type": "code",
      "metadata": {
        "id": "vAJlrQR2B3sl"
      },
      "source": [
        "\n",
        "# from astropy.table import Table, vstack\n",
        "# tbl = Table.read(\"/content/GALAH_DR3_VAC_dynamics_v1.fits\")\n",
        "# try:\n",
        "#     tbl2 = Table.read('/content/GALAH_DR3_main_allspec_v1.fits')\n",
        "# except:\n",
        "#     pass\n",
        "# else:\n",
        "#     tbl = join(tbl2, tbl, keys = 'sobject_id', join_type='inner', uniq_col_name= '{teff, logg}_{df1}', metadata_conflicts='silent')\n",
        "\n"
      ],
      "execution_count": null,
      "outputs": []
    },
    {
      "cell_type": "code",
      "metadata": {
        "id": "Mg9ge-cc2p3k"
      },
      "source": [
        "tbl2 = Table.read('/content/GALAH_DR3_main_allspec_v1.fits')\n"
      ],
      "execution_count": null,
      "outputs": []
    },
    {
      "cell_type": "code",
      "metadata": {
        "id": "Q8RGeY5PObEt"
      },
      "source": [
        "para = tbl2['parallax']>0.0\n",
        "tbl2 = tbl2[para]\n"
      ],
      "execution_count": null,
      "outputs": []
    },
    {
      "cell_type": "code",
      "metadata": {
        "id": "gaR2XVN6NIkH"
      },
      "source": [
        "nr_galah_dr3_stars = np.where(\n",
        "        np.isfinite(tbl2['ra']) &\n",
        "        np.isfinite(tbl2['dec']) &\n",
        "        np.isfinite(tbl2['pmra']) &\n",
        "        np.isfinite(tbl2['pmdec']) &\n",
        "        np.isfinite(tbl2['ra_error']) &\n",
        "        np.isfinite(tbl2['dec_error']) &\n",
        "        np.isfinite(tbl2['pmra_error']) &\n",
        "        np.isfinite(tbl2['pmdec_error']) &\n",
        "        (\n",
        "            (\n",
        "            np.isfinite(tbl2['rv_galah']) &\n",
        "            np.isfinite(tbl2['e_rv_galah'])\n",
        "            ) |\n",
        "            (\n",
        "            np.isfinite(tbl2['rv_gaia']) &\n",
        "            np.isfinite(tbl2['e_rv_gaia'])\n",
        "            )\n",
        "        )\n",
        "    )[0]\n",
        "\n",
        "    # This should only me activated for tests with subsets of GALAH DR3\n",
        "    #nr_galah_stars_dynamics = nr_galah_stars_dynamics[:100]\n",
        "\n",
        "galah_gaia = tbl2[nr_galah_dr3_stars]\n",
        "nr_stars = len(galah_gaia['sobject_id'])\n",
        "print(\"Selected number of stars\")\n",
        "\n",
        "print(nr_stars)"
      ],
      "execution_count": null,
      "outputs": []
    },
    {
      "cell_type": "code",
      "metadata": {
        "id": "UQOdVlkn-gkh"
      },
      "source": [
        "\n",
        "#galah_gaiam = galah_gaia[(galah_gaia['logg']>3.2) & (galah_gaia['logg']<4.1) &(galah_gaia['teff']>5000) & (galah_gaia['teff']< 7000)]\n",
        "tbl2m = galah_gaia[(galah_gaia['logg']<3.5)& (galah_gaia['teff']>4000) &(galah_gaia['teff']<4600 )|(galah_gaia['logg']<4.)& (galah_gaia['teff']>4600) &(galah_gaia['teff']<5600 )]\n",
        "\n",
        "tbl2m[:]"
      ],
      "execution_count": null,
      "outputs": []
    },
    {
      "cell_type": "code",
      "metadata": {
        "id": "UVvn_r74rwLW"
      },
      "source": [
        "#dist = 1/tbl2['parallax']\n",
        "dist  = coord.Distance(parallax = u.Quantity(tbl2m['parallax']))\n",
        "dist.max()"
      ],
      "execution_count": null,
      "outputs": []
    },
    {
      "cell_type": "code",
      "metadata": {
        "id": "oVbEmI0Weg_t"
      },
      "source": [
        "# from astropy.coordinates import CartesianDifferential\n",
        "# cs = coord.SkyCoord(ra = tbl2m['ra'], \n",
        "#                     dec = tbl2m['dec'],\n",
        "#                     distance = dist, \n",
        "#                     pm_ra_cosdec = tbl2m['pmra'], \n",
        "#                     pm_dec = tbl2m['pmdec'], \n",
        "#                     radial_velocity = tbl2m['rv_galah'], \n",
        "#                     galcen_distance=8.*u.kpc,z_sun=15.*u.pc,\n",
        "#                 galcen_v_sun=CartesianDifferential([10.0,235.,7.]*u.km/u.s))\n",
        "\n"
      ],
      "execution_count": null,
      "outputs": []
    },
    {
      "cell_type": "code",
      "metadata": {
        "id": "nNgDiFeCFARF"
      },
      "source": [
        "ra = np.array(tbl2m['ra'])\n",
        "dec = np.array(tbl2m['dec'])\n",
        "distance = np.array(dist*u.pc.to(u.kpc))\n",
        "pmra = np.array(tbl2m['pmra'] )\n",
        "pmdec = np.array(tbl2m['pmdec'] )\n",
        "radial_velocity = np.array(tbl2m['rv_galah'])"
      ],
      "execution_count": null,
      "outputs": []
    },
    {
      "cell_type": "code",
      "metadata": {
        "id": "dHFIwl2HG85A"
      },
      "source": [
        "#!pip install galpy\n"
      ],
      "execution_count": null,
      "outputs": []
    },
    {
      "cell_type": "code",
      "metadata": {
        "id": "yUPDiTTnkFRD"
      },
      "source": [
        "import galpy\n",
        "#from galpy.potential import MWPotential2014 as pot\n",
        "from galpy.potential.mwpotentials import McMillan17 as pot\n",
        "from galpy.util.bovy_conversion import get_physical\n",
        "from galpy.actionAngle import actionAngleStaeckel\n",
        "from galpy.orbit import Orbit\n",
        "\n",
        "# Reference values\n",
        "#r_galactic_centre = 8.178*u.kpc # Gravity Collaboration, 2019, A&A, 625, 10\n",
        "r_galactic_centre = 8.21*u.kpc # McMillan Potential, 2017\n",
        "z_galactic_plane = 25.0*u.pc # Bland-Hawthorn & Gerhard, 2016, ARA&A, 54, 529\n",
        "\n",
        "print('Reference frame:')\n",
        "print('R_GC = '+str(r_galactic_centre)+' (McMillan, 2017, MNRAS, 465, 76)')\n",
        "print('phi_GC = '+str(0*u.rad))\n",
        "print('z_GC = '+str(z_galactic_plane)+' (Bland-Hawthorn & Gerhard, 2016, ARA&A, 54, 529)')\n",
        "\n",
        "v_total_sun = (np.tan(6.379*u.mas)*r_galactic_centre/u.yr).to(u.km/u.s) # pm_l by Reid & Brunthaler 2004, ApJ, 616, 872\n",
        "print('V_total_sun: = '+\"{:.2f}\".format(v_total_sun)+' (Reid & Brunthaler 2004, ApJ, 616, 872)')\n",
        "v_peculiar = [11.1, 15.17, 7.25]*u.km/u.s # U and W from Schoenrich, Binney, Dehnen, 2010, MNRAS, 403, 1829, V so that V = V_total-V_sun\n",
        "print('V_peculiar = ',(v_peculiar),' (U and W from Schoenrich, Binney, Dehnen, 2010, MNRAS, 403, 1829)')\n",
        "print('V-component of V_peculiar = 15.17 km/s, instead of 12.24 km/s by Schoenrich et al. (2010), for matching v_circular')\n",
        "v_circular = np.round(v_total_sun-v_peculiar[1],1)\n",
        "print('V_circular = ',(v_circular),' (McMillan, 2017, MNRAS, 465, 76)')\n",
        "\n",
        "aAS = actionAngleStaeckel(\n",
        "        pot   = pot,        #potential                                                                                                                                                                      \n",
        "        delta = 0.45,       #focal length of confocal coordinate system                                                                                                                            \n",
        "        c     = True        #use C code (for speed)                                                                                                                                                         \n",
        "        )\n",
        "\n",
        "#(RA = 17:45:37.224 h:m:s, Dec = −28:56:10.23 deg) (Reid& Brunthaler 2004)"
      ],
      "execution_count": null,
      "outputs": []
    },
    {
      "cell_type": "code",
      "metadata": {
        "id": "LXLDQwekupuK"
      },
      "source": [
        "o = Orbit(\n",
        "        #ra, dec, dist, pm_ra, pm_dec, v_los\n",
        "        vxvv=[ra*u.deg,dec*u.deg,distance*u.kpc,pmra*u.mas/u.yr, pmdec*u.mas/u.yr,radial_velocity*u.km/u.s],\n",
        "        ro=r_galactic_centre,\n",
        "        vo=v_circular,\n",
        "        zo=z_galactic_plane,\n",
        "        solarmotion=[-11.1, 15.17, 7.25]*u.km/u.s,\n",
        "        #solarmotion='schoenrich',\n",
        "        radec=True\n",
        "    )"
      ],
      "execution_count": null,
      "outputs": []
    },
    {
      "cell_type": "code",
      "metadata": {
        "id": "TpZJEdnd0WG1"
      },
      "source": [
        "o.dist().max()"
      ],
      "execution_count": null,
      "outputs": []
    },
    {
      "cell_type": "code",
      "metadata": {
        "id": "Bx9SBOyLgxuS"
      },
      "source": [
        "from matplotlib import rc\n",
        "rc('text', usetex = False)"
      ],
      "execution_count": null,
      "outputs": []
    },
    {
      "cell_type": "code",
      "metadata": {
        "id": "_RSxUdYSgjDr"
      },
      "source": [
        "plt.plot(o.x(), o.z(), '.')"
      ],
      "execution_count": null,
      "outputs": []
    },
    {
      "cell_type": "code",
      "metadata": {
        "id": "afkMpvdwvSNA"
      },
      "source": [
        "#E = o.E(pot=pot,ro=r_galactic_centre,vo=v_circular,zo=z_galactic_plane)"
      ],
      "execution_count": null,
      "outputs": []
    },
    {
      "cell_type": "code",
      "metadata": {
        "id": "hkcZpw6nSLbT"
      },
      "source": [
        "tbl2m['E'] = o.E(pot=pot,ro=r_galactic_centre,vo=v_circular,zo=z_galactic_plane)"
      ],
      "execution_count": null,
      "outputs": []
    },
    {
      "cell_type": "code",
      "metadata": {
        "id": "P7yZx4OfW-vR"
      },
      "source": [
        "tbl2m['E_z'] = o.Ez(pot=pot,ro=r_galactic_centre,vo=v_circular,zo=z_galactic_plane)"
      ],
      "execution_count": null,
      "outputs": []
    },
    {
      "cell_type": "code",
      "metadata": {
        "id": "iGlO1v_Pb7n_"
      },
      "source": [
        "x,y,z, vx, vy, vz  = o.x(),o.y(), o.z(), o.vx(), o.vy(), o.vz()\n",
        "tbl2m['U'] = o.U()\n",
        "tbl2m['V'] = o.V()\n",
        "tbl2m['W'] = o.W()\n",
        "\n",
        "tbl2m['Lz'] = o.Lz()\n",
        "tbl2m['L'] = o.L()\n",
        "tbl2m['vlos']= o.vlos()\n",
        "tbl2m['vphi'] = o.vphi()\n",
        "tbl2m['vR'] = o.vR()\n",
        "tbl2m['vT'] = o.vT()\n"
      ],
      "execution_count": null,
      "outputs": []
    },
    {
      "cell_type": "code",
      "metadata": {
        "id": "MomBz-wb0hs1"
      },
      "source": [
        "np.median(x)"
      ],
      "execution_count": null,
      "outputs": []
    },
    {
      "cell_type": "code",
      "metadata": {
        "id": "EEdgQEd6kZ1Y"
      },
      "source": [
        "tbl2m['x'], tbl2m['y'], tbl2m['z'], tbl2m['vx'], tbl2m['vy'], tbl2m['vz'] = x,y, z, vx, vy, vz\n",
        "\n"
      ],
      "execution_count": null,
      "outputs": []
    },
    {
      "cell_type": "code",
      "metadata": {
        "id": "sfklgi7tdCSM"
      },
      "source": [
        "tbl2m"
      ],
      "execution_count": null,
      "outputs": []
    },
    {
      "cell_type": "code",
      "metadata": {
        "id": "iQWPb_CDd6Uy"
      },
      "source": [
        "# E = tbl2m['E']\n",
        "# Lz = tbl2m['Lz']\n",
        "# plt.plot(E, Lz, '.')\n",
        "# plt.xlim(-464540078, 9464540078)\n",
        "# plt.ylim(-2000000, 2000000)"
      ],
      "execution_count": null,
      "outputs": []
    },
    {
      "cell_type": "markdown",
      "metadata": {
        "id": "RVl3vqv6ghNY"
      },
      "source": [
        "#### convert into gc "
      ]
    },
    {
      "cell_type": "code",
      "metadata": {
        "id": "AbIEOviMggSL"
      },
      "source": [
        "# galcen = cs.transform_to(coord.Galactocentric(z_sun=0*u.pc,\n",
        "#                                              galcen_distance=8.1*u.kpc))"
      ],
      "execution_count": null,
      "outputs": []
    },
    {
      "cell_type": "code",
      "metadata": {
        "id": "zqRK6Dkzf7vu"
      },
      "source": [
        "# x, y, z, vx, vy, vz = galcen.x, galcen.y, galcen.z, galcen.v_x, galcen.v_y, galcen.v_z"
      ],
      "execution_count": null,
      "outputs": []
    },
    {
      "cell_type": "code",
      "metadata": {
        "id": "MrcN1moQhp5T"
      },
      "source": [
        "#!pip install latex"
      ],
      "execution_count": null,
      "outputs": []
    },
    {
      "cell_type": "code",
      "metadata": {
        "id": "5TaECrw6ico6"
      },
      "source": [
        "#!sudo apt install texlive texlive-latex-extra texlive-fonts-recommended dvipng"
      ],
      "execution_count": null,
      "outputs": []
    },
    {
      "cell_type": "code",
      "metadata": {
        "id": "FklRgoOT_CKD"
      },
      "source": [
        "from matplotlib import rc \n",
        "rc('text', usetex = False)"
      ],
      "execution_count": null,
      "outputs": []
    },
    {
      "cell_type": "code",
      "metadata": {
        "id": "Eq4YlmGy8oOd"
      },
      "source": [
        "tbl = vaex.from_astropy_table(tbl2m)"
      ],
      "execution_count": null,
      "outputs": []
    },
    {
      "cell_type": "code",
      "metadata": {
        "id": "MjF2ywYI9CXY"
      },
      "source": [
        "tbl.export_hdf5('/content/output_data_galah.hdf5')\n"
      ],
      "execution_count": null,
      "outputs": []
    },
    {
      "cell_type": "code",
      "metadata": {
        "id": "pyJmBhUO90Qm"
      },
      "source": [
        "df_output_galah =vaex.open('/content/output_data_galah.hdf5')\n"
      ],
      "execution_count": null,
      "outputs": []
    },
    {
      "cell_type": "code",
      "metadata": {
        "id": "IBVUo401yXi9"
      },
      "source": [
        "#df_output_galah.export_hdf5('/content/output_data_galah.csv')\n"
      ],
      "execution_count": null,
      "outputs": []
    },
    {
      "cell_type": "code",
      "metadata": {
        "id": "7p2iIjPu_9b0"
      },
      "source": [
        "df_vaex_astro= df_output_galah.to_astropy_table()\n",
        "df_vaex_astro[:4]"
      ],
      "execution_count": null,
      "outputs": []
    },
    {
      "cell_type": "code",
      "metadata": {
        "id": "lzgQ7sm3Du6k"
      },
      "source": [
        "xcut_pos = df_output_galah.x>25\n",
        "xcut_neg = df_output_galah.x<-25\n",
        "xcut = (~xcut_pos)&(~xcut_neg)\n",
        "dfhalo_xcut  = df_output_galah[xcut]\n"
      ],
      "execution_count": null,
      "outputs": []
    },
    {
      "cell_type": "code",
      "metadata": {
        "id": "7xZerrViFVq4"
      },
      "source": [
        "ycut_pos = dfhalo_xcut.y>25\n",
        "ycut_neg = dfhalo_xcut.y<-25\n",
        "ycut = (~ycut_pos)&(~ycut_neg)\n",
        "dfhalo_xycut =dfhalo_xcut[ycut]\n"
      ],
      "execution_count": null,
      "outputs": []
    },
    {
      "cell_type": "code",
      "metadata": {
        "id": "Ntwa8l7ZE0l4"
      },
      "source": [
        "zcut_pos = dfhalo_xycut.z>25\n",
        "zcut_neg = dfhalo_xycut.z<-25\n",
        "zcut = (~zcut_pos)&(~zcut_neg)\n",
        "dfhalo_xyzcut_galah= dfhalo_xycut[zcut]\n",
        "dfhalo_xyzcut_galah"
      ],
      "execution_count": null,
      "outputs": []
    },
    {
      "cell_type": "code",
      "metadata": {
        "id": "hvfxKGBNWZ1k"
      },
      "source": [
        "dfhalo_xyzcut_galah.export_hdf5('/content/df_gaia2_galah3.hdf5')"
      ],
      "execution_count": null,
      "outputs": []
    },
    {
      "cell_type": "code",
      "metadata": {
        "id": "p42N_DFSaC_I"
      },
      "source": [
        "df_output_galah3 = vaex.open('/content/df_gaia2_galah3.hdf5')"
      ],
      "execution_count": null,
      "outputs": []
    },
    {
      "cell_type": "code",
      "metadata": {
        "id": "dAvmwYO1dN-4"
      },
      "source": [
        "df_galah_gaia = df_output_galah3.to_astropy_table()"
      ],
      "execution_count": null,
      "outputs": []
    },
    {
      "cell_type": "code",
      "metadata": {
        "id": "PlB8y6twPour"
      },
      "source": [
        "from matplotlib import rc\n",
        "rc('text', usetex = False)"
      ],
      "execution_count": null,
      "outputs": []
    },
    {
      "cell_type": "code",
      "metadata": {
        "id": "6RTLSMTsS-ii"
      },
      "source": [
        "# import matplotlib.pyplot as plt \n",
        "# plt.figure(figsize=(10,5))\n",
        "# ax1 = plt.subplot(1,2,1)\n",
        "# ax1.plot(dfhalo_xyzcut_galah['x'], dfhalo_xyzcut_galah['z'], '.')\n",
        "# ax1.set_title('z vs x')\n",
        "\n",
        "# ax2 = plt.subplot(1,2,2)\n",
        "# ax2.plot(dfhalo_xyzcut_galah['x'], dfhalo_xyzcut_galah['y'], '.')\n",
        "# ax2.set_title('y vs x')"
      ],
      "execution_count": null,
      "outputs": []
    },
    {
      "cell_type": "code",
      "metadata": {
        "id": "5oienz9PxkzV"
      },
      "source": [
        "\n",
        "df_output_galah3.plot(df_output_galah3.x, df_output_galah3.y, what=np.log(vaex.stat.count()+1), limits='99.7%');"
      ],
      "execution_count": null,
      "outputs": []
    },
    {
      "cell_type": "code",
      "metadata": {
        "id": "qAkfvJC0LAFq"
      },
      "source": [
        "df_output_galah3.plot(df_output_galah3.x, df_output_galah3.z, what=np.log(vaex.stat.count()+1), limits='99.7%');"
      ],
      "execution_count": null,
      "outputs": []
    },
    {
      "cell_type": "code",
      "metadata": {
        "id": "534gf_5yLRgH"
      },
      "source": [
        "df_output_galah3.plot([[\"x\", \"y\"], [\"x\", \"z\"]], limits='99.7%',\n",
        "        title=\"Face on and edge on\", figsize=(10,4));"
      ],
      "execution_count": null,
      "outputs": []
    },
    {
      "cell_type": "code",
      "metadata": {
        "id": "XywD1DALiz2H"
      },
      "source": [
        "df_output_galah3.plot([[\"x\", \"y\"], [\"x\", \"z\"]],\n",
        "        limits='99.7%',\n",
        "        what=[np.log(vaex.stat.count()+1), vaex.stat.mean(df_output_galah3.E)],\n",
        "        selection=[None, df_output_galah3.x < df_output_galah3.y],\n",
        "        title=\"Face on and edge on\", figsize=(10,10));"
      ],
      "execution_count": null,
      "outputs": []
    },
    {
      "cell_type": "code",
      "metadata": {
        "id": "FA9Sm1dijayf"
      },
      "source": [
        "df_output_galah3.plot([[\"x\", \"y\"], [\"x\", \"z\"]],\n",
        "        limits='99.7%',\n",
        "        what=vaex.stat.mean(df_output_galah3.E),\n",
        "        selection=[None, df_output_galah3.Lz < 0],\n",
        "        visual=dict(column='selection'),\n",
        "        title=\"Face on and edge on\", figsize=(10,10));"
      ],
      "execution_count": null,
      "outputs": []
    },
    {
      "cell_type": "code",
      "metadata": {
        "id": "zqhsmlGnkcQm"
      },
      "source": [
        "z = df_output_galah3.fe_h"
      ],
      "execution_count": null,
      "outputs": []
    },
    {
      "cell_type": "code",
      "metadata": {
        "id": "pxi6oIU6kDMH"
      },
      "source": [
        "df_output_galah3.plot(\"Lz\", \"E\",\n",
        "        limits='99.7%',\n",
        "        z=\"fe_h:-3.0,-1,8\", show=True, visual=dict(row=\"z\"),\n",
        "        figsize=(12,8), f=\"log\", wrap_columns=3);\n",
        "\n"
      ],
      "execution_count": null,
      "outputs": []
    },
    {
      "cell_type": "code",
      "metadata": {
        "id": "_c00wa2VHAti"
      },
      "source": [
        "x, y, z, vx, vy, vz = df_galah_gaia.x, df_galah_gaia.y, df_galah_gaia.z, df_galah_gaia.vx, df_galah_gaia.vy, df_galah_gaia.vz"
      ],
      "execution_count": null,
      "outputs": []
    },
    {
      "cell_type": "code",
      "metadata": {
        "id": "ioG4oZ4RCsYP"
      },
      "source": [
        "# df_galah_gaia.plot([[\"vx\", \"vy\"], [\"vx\", \"vz\"]], limits='95.0%',\n",
        "#         title=\"Face on and edge on\", figsize=(10,4));"
      ],
      "execution_count": null,
      "outputs": []
    },
    {
      "cell_type": "code",
      "metadata": {
        "id": "-qdwPHT3WfAe"
      },
      "source": [
        "# !pip install vaex\n",
        "# !pip install --upgrade ipython"
      ],
      "execution_count": null,
      "outputs": []
    },
    {
      "cell_type": "code",
      "metadata": {
        "id": "GcVe1UvBYoZh"
      },
      "source": [
        "# vaex_df= vaex.from_astropy_table(tbl2m)"
      ],
      "execution_count": null,
      "outputs": []
    },
    {
      "cell_type": "code",
      "metadata": {
        "id": "jwHeedztc9ld"
      },
      "source": [
        "# counts_x = vaex_df.count(binby=vaex_df.x, limits=[-10, 10], shape=64)\n",
        "# counts_x"
      ],
      "execution_count": null,
      "outputs": []
    },
    {
      "cell_type": "code",
      "metadata": {
        "id": "TzjsRpP-eEFQ"
      },
      "source": [
        "# xycounts = vaex_df.count(binby=[vaex_df.x, vaex_df.y], limits=[[-10, 10], [-10, 20]], shape=(64, 128))\n",
        "# xycounts"
      ],
      "execution_count": null,
      "outputs": []
    },
    {
      "cell_type": "code",
      "metadata": {
        "id": "HqMiOv4deeIO"
      },
      "source": [
        "\n"
      ],
      "execution_count": null,
      "outputs": []
    },
    {
      "cell_type": "code",
      "metadata": {
        "id": "46ViWnuRfjWu"
      },
      "source": [
        "\n",
        "# df = vaex_df(vaex_df.evaluate(vaex_df.x<0, selection=True))\n",
        "# df.row"
      ],
      "execution_count": null,
      "outputs": []
    },
    {
      "cell_type": "code",
      "metadata": {
        "id": "FZNjUfC3fwcQ"
      },
      "source": [
        "# vaex_df_neg  = vaex_df[vaex_df.evaluate(vaex_df.x<0., selection=True)]"
      ],
      "execution_count": null,
      "outputs": []
    },
    {
      "cell_type": "code",
      "metadata": {
        "id": "IwH9VxuABjJS"
      },
      "source": [
        ""
      ],
      "execution_count": null,
      "outputs": []
    },
    {
      "cell_type": "code",
      "metadata": {
        "id": "IGhXuDl-W9Xu"
      },
      "source": [
        ""
      ],
      "execution_count": null,
      "outputs": []
    },
    {
      "cell_type": "code",
      "metadata": {
        "id": "o4M-l7IURj8G"
      },
      "source": [
        "# ra=tbl2m['ra']\n",
        "# dec=tbl2m ['dec']\n",
        "# pmra=tbl2m['pmra']\n",
        "# pmdec=tbl2m ['pmdec']\n",
        "# pmra_error=tbl2m['pmra_error']\n",
        "# pmdec_error=tbl2m['pmdec_error']\n",
        "# X=tbl2m['X_XYZ']\n",
        "# Y =tbl2m['Y_XYZ']\n",
        "# Z =tbl2m['Z_XYZ']\n",
        "# U =tbl2m['U_UVW']\n",
        "# V=tbl2m['V_UVW']\n",
        "# W=tbl2m['W_UVW']\n",
        "# R=tbl2m['R_Rzphi']\n",
        "# z=tbl2m['z_Rzphi']\n",
        "# phi=tbl2m['phi_Rzphi'] \n",
        "# vR =tbl2m['vR_Rzphi']\n",
        "# vz=tbl2m['vz_Rzphi']\n",
        "# vphi=tbl2m ['vphi_Rzphi']\n",
        "# vT =tbl2m['vT_Rzphi']\n",
        "# J_R =tbl2m['J_R']\n",
        "# L_Z=tbl2m['L_Z']\n",
        "# J_Z=tbl2m['J_Z']\n",
        "# E=tbl2m['Energy']\n",
        "# sobject = tbl2m['sobject_id']\n",
        "# fe_h = tbl2m['fe_h']"
      ],
      "execution_count": null,
      "outputs": []
    },
    {
      "cell_type": "code",
      "metadata": {
        "id": "-3RDoA7vQQco"
      },
      "source": [
        "\n",
        "#data = {'ra': ra, 'dec': dec,   'pmra':pmra,  'pmdec':pmdec, 'X': X, 'Y': Y, 'Z': Z, 'U': U, 'V': V, 'W': W, 'R':R, 'z': z,'phi': phi, 'vR': vR, 'vz': vz, 'vphi': vphi, 'vT': vT, 'J_R': J_R, 'L_Z' : L_Z, 'J_Z':J_Z, 'Energy': E, 'fe_h' : fe_h}"
      ],
      "execution_count": null,
      "outputs": []
    },
    {
      "cell_type": "code",
      "metadata": {
        "id": "8UI-f1mrXj7h"
      },
      "source": [
        "#df = pd.DataFrame(data = data)"
      ],
      "execution_count": null,
      "outputs": []
    },
    {
      "cell_type": "code",
      "metadata": {
        "id": "b60Fi6k7YHgR"
      },
      "source": [
        "# import numpy as np\n",
        "# r = np.sqrt(tblll['x']**2+tblll['y']**2+tblll['z']**2)\n",
        "# tblll['r'] = r "
      ],
      "execution_count": null,
      "outputs": []
    },
    {
      "cell_type": "code",
      "metadata": {
        "id": "cOv1WZ6tfw37"
      },
      "source": [
        "import numpy as np\n",
        "import matplotlib\n",
        "matplotlib.rcParams['text.usetex'] = True\n",
        "import matplotlib.pyplot as plt\n"
      ],
      "execution_count": null,
      "outputs": []
    },
    {
      "cell_type": "code",
      "metadata": {
        "id": "maK8hu3yjiQc"
      },
      "source": [
        "df_output_galah3"
      ],
      "execution_count": null,
      "outputs": []
    },
    {
      "cell_type": "code",
      "metadata": {
        "id": "bMRNbO-kOpXD"
      },
      "source": [
        "def cx2sp( *args ):\n",
        "    \"\"\"\n",
        "        cx2sp\n",
        "    PURPOSE\n",
        "        Converts cartesian (X,V) into spherical polar coordinates \n",
        "                                 (r, theta, phi, vr, vtheta, vphi). \n",
        "    \n",
        "    CALLING SEQUENCE:\n",
        "        r, theta, phi, vr, vtheta, vphi = \n",
        "            cx2sp(x, y, z, vx, vy, vz)\n",
        "    INPUTS:\n",
        "       x, y, z - Input cartesian position in kpc, scalar or an array  \n",
        "       vx, vy, vz  - Input velocity components in km/s\n",
        "       \n",
        "    OUTPUTS:\n",
        "       theta, phi - Output position angles in radians\n",
        "              theta -> [0,2PI]; phi -> [-PI/2,PI/2.]\n",
        "       r    - Output distance in kpc; [0,Inf]\n",
        "\n",
        "       vr, vtheta, vphi   - Output velocities in km/s [-Inf,Inf]\n",
        "\n",
        "    INPUT KEYWORD:\n",
        "       \n",
        "    REVISION HISTORY:\n",
        "\n",
        "    REFERENCE: \n",
        "       phi is an azimuthal angle Right Handed coordinate system. \n",
        "       theta is an altitude angle, made by position vector with the positive z-axis\n",
        "    \"\"\"\n",
        "    import numpy as np\n",
        "\n",
        "    if len(args)==6:\n",
        "        dim = 6\n",
        "        x,y,z,vx,vy,vz = args\n",
        "        x = np.atleast_1d(x)\n",
        "        y = np.atleast_1d(y)\n",
        "        z = np.atleast_1d(z)\n",
        "        vx = np.atleast_1d(vx)\n",
        "        vy = np.atleast_1d(vy)\n",
        "        vz = np.atleast_1d(vz)\n",
        "\n",
        "    else:\n",
        "        dim = 3\n",
        "        x,y,z = args\n",
        "\n",
        "        x = np.atleast_1d(x)\n",
        "        y = np.atleast_1d(y)\n",
        "        z = np.atleast_1d(z)\n",
        "\n",
        "    r = (x*x +y*y +z*z)**0.5\n",
        "    arcos   = np.arccos; artan = np.arctan2\n",
        "    theta   = arcos(z/r)\n",
        "    phi     = artan(y,x)\n",
        "    sinthi  = np.sin(theta); costhi = np.cos(theta); sinphi = np.sin(phi)\n",
        "    cosphi  = np.cos(phi) \n",
        "\n",
        "    if dim==6:\n",
        "        vr      = sinthi*cosphi*vx +sinthi*sinphi*vy +costhi*vz \n",
        "        vtheta  = costhi*cosphi*vx +costhi*sinphi*vy -sinthi*vz\n",
        "        vphi    = -sinphi*vx +cosphi*vy\n",
        "    \n",
        "        return r, theta, phi, vr, vtheta, vphi\n",
        "    return r, theta, phi"
      ],
      "execution_count": null,
      "outputs": []
    },
    {
      "cell_type": "code",
      "metadata": {
        "id": "qSw9zqFNk6wa"
      },
      "source": [
        "x, y, z, vx, vy, vz = df_galah_gaia['x'], df_galah_gaia['y'], df_galah_gaia['z'], df_galah_gaia['vx'], df_galah_gaia['vy'], df_galah_gaia['vz'] \n",
        "\n",
        "#from vaex table \n",
        "#x, y, z, vx, vy, vz = df_galah_gaia.x, df_galah_gaia.y, df_galah_gaia.z, df_galah_gaia.vx, df_galah_gaia.vy, df_galah_gaia.vz \n",
        "\n"
      ],
      "execution_count": null,
      "outputs": []
    },
    {
      "cell_type": "code",
      "metadata": {
        "id": "bvVZXv53PE3p"
      },
      "source": [
        "cxtosp = cx2sp(x, y, z, vx, vy, vz)"
      ],
      "execution_count": null,
      "outputs": []
    },
    {
      "cell_type": "code",
      "metadata": {
        "id": "uTmOy2sNRE0D"
      },
      "source": [
        "#for astropy table\n",
        "df_galah_gaia['r'],df_galah_gaia['theta'],df_galah_gaia['phi'],df_galah_gaia['vr'],df_galah_gaia['vtheta'],df_galah_gaia['vphi'] = cx2sp(x, y, z, vx, vy, vz)\n",
        "#for vaex data frame\n",
        "#df_galah_gaia.r,df_galah_gaia.theta,df_galah_gaia.phi,df_galah_gaia.vr,df_galah_gaia.vtheta,df_galah_gaia.vphi = cx2sp(x, y, z, vx, vy, vz)"
      ],
      "execution_count": null,
      "outputs": []
    },
    {
      "cell_type": "code",
      "metadata": {
        "id": "9ETb5i_PtqUv"
      },
      "source": [
        "df_galah_gaia[:3]"
      ],
      "execution_count": null,
      "outputs": []
    },
    {
      "cell_type": "code",
      "metadata": {
        "id": "pRtcEl9NnYuK"
      },
      "source": [
        "r , theta, phi, vr, vtheta, vphi = df_galah_gaia['r'],df_galah_gaia['theta'],df_galah_gaia['phi'],df_galah_gaia['vr'],df_galah_gaia['vtheta'],df_galah_gaia['vphi'] "
      ],
      "execution_count": null,
      "outputs": []
    },
    {
      "cell_type": "code",
      "metadata": {
        "id": "WLN3UplLQGJ3"
      },
      "source": [
        "# #A routine to make scattter plot in mollweide\n",
        "# def plot_molleweide(gl,gb,color_data,color_label,title):\n",
        "#   gl[gl>180]-=360\n",
        "#   plt.figure(figsize=(20,10))\n",
        "#   ax=plt.subplot(111,projection='mollweide')\n",
        "#   im=ax.scatter(np.radians(gl),np.radians(gb),alpha=1,s=7,c=color_data)\n",
        "#   plt.title('%s(%dstars)'%(title,len(gl)))\n",
        "#   plt.colorbar(im,label=color_label)\n",
        "#   plt.show()\n",
        "#   plt.clf()\n",
        "#   plt.close()"
      ],
      "execution_count": null,
      "outputs": []
    },
    {
      "cell_type": "code",
      "metadata": {
        "id": "0jyHbRvBRUzq"
      },
      "source": [
        "# plot_molleweide(df_galah_gaia['l'],df_galah_gaia['b'],df_galah_gaia['b'],'Fe_h[dex]','Kgiants')"
      ],
      "execution_count": null,
      "outputs": []
    },
    {
      "cell_type": "code",
      "metadata": {
        "id": "nVTA1lszULaC"
      },
      "source": [
        "import matplotlib.pyplot as plt \n",
        "plt.plot(df_galah_gaia['vr'], df_galah_gaia['vphi'], '.')\n",
        "plt.xlabel(r'$ v_r \\,(kpc)$')\n",
        "plt.ylabel(r'$v_{\\phi} \\,(kpc)$')"
      ],
      "execution_count": null,
      "outputs": []
    },
    {
      "cell_type": "code",
      "metadata": {
        "id": "kc_Jy4Y2WWxc"
      },
      "source": [
        "df_galah_gaia['Vtot']=np.sqrt(df_galah_gaia['vr']*df_galah_gaia['vr']+(df_galah_gaia['vphi']-232.)*(df_galah_gaia['vphi']-232.)+df_galah_gaia['vz']*df_galah_gaia['vz'])\n",
        "dfhalo=df_galah_gaia[abs(df_galah_gaia['Vtot'])>210.].copy()\n",
        "print(len(dfhalo))\n",
        "o = dfhalo['vphi']\n",
        "print(o)"
      ],
      "execution_count": null,
      "outputs": []
    },
    {
      "cell_type": "code",
      "metadata": {
        "id": "apDRu0QhJYE2"
      },
      "source": [
        "import galpy\n",
        "#from galpy.potential import MWPotential2014 as pot\n",
        "from galpy.potential.mwpotentials import McMillan17 as pot\n",
        "from galpy.util.bovy_conversion import get_physical\n",
        "from galpy.actionAngle import actionAngleStaeckel\n",
        "from galpy.orbit import Orbit\n"
      ],
      "execution_count": null,
      "outputs": []
    },
    {
      "cell_type": "code",
      "metadata": {
        "id": "L4dRSxb6JfgS"
      },
      "source": [
        ""
      ],
      "execution_count": null,
      "outputs": []
    },
    {
      "cell_type": "code",
      "metadata": {
        "id": "3JsUMgzuXy1z"
      },
      "source": [
        "np.mean(dfhalo['vphi'])"
      ],
      "execution_count": null,
      "outputs": []
    },
    {
      "cell_type": "code",
      "metadata": {
        "id": "-JYWkfJHsxtp"
      },
      "source": [
        "from astropy.stats import median_absolute_deviation"
      ],
      "execution_count": null,
      "outputs": []
    },
    {
      "cell_type": "code",
      "metadata": {
        "id": "E5RuBztvxMuQ"
      },
      "source": [
        "mad = median_absolute_deviation(dfhalo['vphi'])\n",
        "mad"
      ],
      "execution_count": null,
      "outputs": []
    },
    {
      "cell_type": "code",
      "metadata": {
        "id": "r0xQtKvoX8Mc"
      },
      "source": [
        "###velocity vs  metallicity\n",
        "plt.scatter(dfhalo['fe_h'],dfhalo['vr'],s=0.9)\n",
        "plt.xlabel('Fe/H')\n",
        "plt.ylabel('vr')\n",
        "plt.show()\n",
        "###velocity vs  metallicity\n",
        "plt.scatter(dfhalo['fe_h'],dfhalo['vtheta'],s=0.9)\n",
        "plt.xlabel('Fe/H')\n",
        "plt.ylabel('vtheta')\n",
        "plt.show()\n",
        "###velocity vs  metallicity\n",
        "plt.scatter(dfhalo['fe_h'],dfhalo['vphi'],s=0.9)\n",
        "plt.xlabel('Fe/H')\n",
        "plt.ylabel('vphi')\n",
        "plt.show()"
      ],
      "execution_count": null,
      "outputs": []
    },
    {
      "cell_type": "code",
      "metadata": {
        "id": "Jaj3t5z1YZ2x"
      },
      "source": [
        "vphi = np.mean(dfhalo['vphi'])"
      ],
      "execution_count": null,
      "outputs": []
    },
    {
      "cell_type": "code",
      "metadata": {
        "id": "CkDQlpEGY9gZ"
      },
      "source": [
        "dfhalo['vphi'].min()"
      ],
      "execution_count": null,
      "outputs": []
    },
    {
      "cell_type": "code",
      "metadata": {
        "id": "zQMKx0pJZTw-"
      },
      "source": [
        "dfhalo['vphi'].max()"
      ],
      "execution_count": null,
      "outputs": []
    },
    {
      "cell_type": "code",
      "metadata": {
        "id": "h22v8Lu3Y-Wt"
      },
      "source": [
        "vphi.min()"
      ],
      "execution_count": null,
      "outputs": []
    },
    {
      "cell_type": "code",
      "metadata": {
        "id": "-NuAJO8AyChm"
      },
      "source": [
        "dfhaloo = vaex.from_astropy_table(dfhalo)"
      ],
      "execution_count": null,
      "outputs": []
    },
    {
      "cell_type": "code",
      "metadata": {
        "id": "oVyp8gLCxmj-"
      },
      "source": [
        "dfhaloo.export_hdf5('/content/dfhalo.hdf5')"
      ],
      "execution_count": null,
      "outputs": []
    },
    {
      "cell_type": "code",
      "metadata": {
        "id": "D0ucl6Ybyiyv"
      },
      "source": [
        "z = dfhaloo.fe_h\n",
        "# Lz = dfhaloo.Lz\n",
        "# E = = dfhaloo.E"
      ],
      "execution_count": null,
      "outputs": []
    },
    {
      "cell_type": "code",
      "metadata": {
        "id": "59iGrLLDySud"
      },
      "source": [
        "dfhaloo.plot(\"Lz\", \"E\",\n",
        "        limits='99.7%',\n",
        "        z=\"fe_h:-2.5,-1,5\", show=True, visual=dict(row=\"z\"),\n",
        "        figsize=(12,8), f=\"log\", wrap_columns=2);"
      ],
      "execution_count": null,
      "outputs": []
    },
    {
      "cell_type": "code",
      "metadata": {
        "id": "g2_uArKQ0Xmd"
      },
      "source": [
        ""
      ],
      "execution_count": null,
      "outputs": []
    },
    {
      "cell_type": "code",
      "metadata": {
        "id": "TIwRJVKFZFH_"
      },
      "source": [
        "#calculate the value of beta\n",
        "def beta(rsig, tsig, psig):\n",
        "  return 1.0 - 0.5*(tsig**2 + psig**2)/(rsig**2) "
      ],
      "execution_count": null,
      "outputs": []
    },
    {
      "cell_type": "code",
      "metadata": {
        "id": "U-xsJeoFtx2N"
      },
      "source": [
        "beta(2,1.5,2.0)"
      ],
      "execution_count": null,
      "outputs": []
    },
    {
      "cell_type": "code",
      "metadata": {
        "id": "zhirAW9yaMPL"
      },
      "source": [
        "#df=df[df['r']<9.5]\n",
        "R_gc=np.arange(dfhalo['r'].min(),dfhalo['r']. max(),4)\n",
        "len(R_gc)"
      ],
      "execution_count": null,
      "outputs": []
    },
    {
      "cell_type": "code",
      "metadata": {
        "id": "cz1_ojawvuzI"
      },
      "source": [
        "dfhalo['r'].max()"
      ],
      "execution_count": null,
      "outputs": []
    },
    {
      "cell_type": "code",
      "metadata": {
        "id": "NWWzAYdhaHMv"
      },
      "source": [
        "dfhalo "
      ],
      "execution_count": null,
      "outputs": []
    },
    {
      "cell_type": "markdown",
      "metadata": {
        "id": "euWwVozQaT_t"
      },
      "source": [
        "#### Here we use |z|> 5. "
      ]
    },
    {
      "cell_type": "code",
      "metadata": {
        "id": "31umgjcQZ1GT"
      },
      "source": [
        "z_neg = dfhalo['z']<-5\n",
        "z_pos = dfhalo['z']> 5 "
      ],
      "execution_count": null,
      "outputs": []
    },
    {
      "cell_type": "code",
      "metadata": {
        "id": "9RZZAcqmf-Rb"
      },
      "source": [
        "z = (~z_neg) & (~z_pos)"
      ],
      "execution_count": null,
      "outputs": []
    },
    {
      "cell_type": "code",
      "metadata": {
        "id": "P6ges5w9gPzM"
      },
      "source": [
        "dfhalo_ =dfhalo[~z]"
      ],
      "execution_count": null,
      "outputs": []
    },
    {
      "cell_type": "code",
      "metadata": {
        "id": "GJtV9QvQidsc"
      },
      "source": [
        "plt.plot(dfhalo_['x'], dfhalo_['z'], '.')\n",
        "plt.xlabel(r'$x$')\n",
        "plt.ylabel(r'$z$')\n"
      ],
      "execution_count": null,
      "outputs": []
    },
    {
      "cell_type": "code",
      "metadata": {
        "id": "ZF6TAPcAaP72"
      },
      "source": [
        "#KGs\n",
        "df = dfhalo_\n",
        "plt.rcParams['figure.figsize'] = 10, 5\n",
        "rspacing = np.arange(4, 124, 5)\n",
        "rmin, rmax = 0, 125.\n",
        "z_range = [0.,50]\n",
        "halokg = []\n",
        "def kgiant(rmin, rmax, z_range, datatype=None):\n",
        "  kgs = df[((df['r']>rmin) & (df['r']<rmax) &\n",
        "                   (np.abs(df['z'])>z_range[0]) & (np.abs(df['z'])<z_range[1]))]\n",
        "  halokg.append(kgs)\n",
        "  return kgs\n",
        "\n",
        "kg = kgiant(rmin, rmax, z_range)\n",
        "\n",
        "plt.hist(kg[kg['fe_h']>-1.4]['r'], histtype='step', bins=rspacing, density= True,\n",
        "         lw=3, color='darkblue', ls='--',\n",
        "         label='$\\mathsf{KGs}:\\ [\\mathsf{Fe/H}]> -1.4\\ (N=%d)$'%kg[kg['fe_h']>-1.4]['r'].shape[0] )\n",
        "plt.hist(kg[kg['fe_h']<=-1.4]['r'], histtype='step', bins=rspacing, density= True,\n",
        "         lw=3, color='r', ls='--', \n",
        "         label='$\\mathsf{KGs}:\\ [\\mathsf{Fe/H}]\\leq -1.4\\ (N=%d)$'%kg[kg['fe_h']<=-1.4]['r'].shape[0])\n",
        "\n",
        "plt.legend(loc='upper left', fontsize=18)\n",
        "\n",
        "\n",
        "plt.xlabel('$\\mathsf{galacto-centric\\ radius}\\ (r/\\mathsf{kpc})$', fontsize=22)\n",
        "plt.ylabel('$\\mathsf{pdf}$', fontsize=22)\n",
        "plt.minorticks_on()\n",
        "\n",
        "\n"
      ],
      "execution_count": null,
      "outputs": []
    },
    {
      "cell_type": "code",
      "metadata": {
        "id": "qEpbWv0sjYa1"
      },
      "source": [
        "plt.scatter(halokg[0]['x'], halokg[0]['z'])\n",
        "plt.xlabel(r'$x$')\n",
        "plt.ylabel(r'$z$')\n",
        "plt.savefig('plot_zvsx.png')"
      ],
      "execution_count": null,
      "outputs": []
    },
    {
      "cell_type": "code",
      "metadata": {
        "id": "zvLBZ8zBj2i6"
      },
      "source": [
        "plt.plot(halokg[0]['x'], halokg[0]['y'], '.')\n",
        "plt.xlabel(r'$x$')\n",
        "plt.ylabel(r'$z$')\n",
        "plt.savefig('plot_yvsx.png')"
      ],
      "execution_count": null,
      "outputs": []
    },
    {
      "cell_type": "code",
      "metadata": {
        "id": "tK4gRXqKbyRs"
      },
      "source": [
        "vr =halokg[0]['vr']\n",
        "vphi =halokg[0]['vphi']\n",
        "vtheta = halokg[0]['vtheta']\n"
      ],
      "execution_count": null,
      "outputs": []
    },
    {
      "cell_type": "code",
      "metadata": {
        "id": "vlV8pudQclh1"
      },
      "source": [
        "#df=df[df['r']<9.5]\n",
        "R_gc=np.arange(halokg[0]['r'].min(),halokg[0]['r'].max(),4)\n",
        "len(R_gc)"
      ],
      "execution_count": null,
      "outputs": []
    },
    {
      "cell_type": "code",
      "metadata": {
        "id": "lP8vEOyrcxr0"
      },
      "source": [
        "def velocity_dispersion(halokg,R_gc):\n",
        "\n",
        "  rsig=[]\n",
        "  tsig=[]\n",
        "  psig=[]\n",
        "  for i in range(len(R_gc)):\n",
        "  \n",
        "    a=[]\n",
        "    b=[]\n",
        "    c=[]\n",
        "    for j in range(len(halokg)):\n",
        "      if R_gc[i]<halokg[0]['r'][j]<R_gc[i+1]:\n",
        "        a.append(halokg[0]['vr'][j])\n",
        "        b.append(halokg[0]['vtheta'][j])\n",
        "        c.append(halokg[0]['vphi'][j])\n",
        "    rsig.append(median_absolute_deviation(a))    \n",
        "    tsig.append(median_absolute_deviation(b))\n",
        "    psig.append(median_absolute_deviation(c))\n",
        "  return rsig,tsig,psig"
      ],
      "execution_count": null,
      "outputs": []
    },
    {
      "cell_type": "code",
      "metadata": {
        "id": "JWOpX7kGxStw"
      },
      "source": [
        "vr1, vt1, vp1 = vr[0:1050], vtheta[0:150], vphi[0:150]"
      ],
      "execution_count": null,
      "outputs": []
    },
    {
      "cell_type": "code",
      "metadata": {
        "id": "Cy7iyUTH2_My"
      },
      "source": [
        "np.var(vr1)"
      ],
      "execution_count": null,
      "outputs": []
    },
    {
      "cell_type": "code",
      "metadata": {
        "id": "7u9rBRjqkQyA"
      },
      "source": [
        ""
      ],
      "execution_count": null,
      "outputs": []
    },
    {
      "cell_type": "code",
      "metadata": {
        "id": "Q_jmKYmvkQ6Z"
      },
      "source": [
        "halokg_vaex = vaex.from_astropy_table(halokg[0])"
      ],
      "execution_count": null,
      "outputs": []
    },
    {
      "cell_type": "code",
      "metadata": {
        "id": "1mm4Yc7W4iJZ"
      },
      "source": [
        "halokg_vaex"
      ],
      "execution_count": null,
      "outputs": []
    },
    {
      "cell_type": "code",
      "metadata": {
        "id": "OS4x01tNksUb"
      },
      "source": [
        "#halokg_vaex.export(\"/content/halokg_vaex.csv\")\n",
        "halokg_vaex.export_hdf5(\"/content/halokg_vaex.hdf5\")\n"
      ],
      "execution_count": null,
      "outputs": []
    },
    {
      "cell_type": "code",
      "metadata": {
        "id": "AqUKMuvV5DqK"
      },
      "source": [
        "#halokg_vaex_out = vaex.open(\"/content/halokg_vaex.hdf5\")\n",
        "halokg_astro_out = halokg_vaex_out.to_astropy_table()\n",
        "halokg_astro_out"
      ],
      "execution_count": null,
      "outputs": []
    },
    {
      "cell_type": "code",
      "metadata": {
        "id": "oJdmWgS3FcfH"
      },
      "source": [
        "###velocity vs  metallicity\n",
        "plt.scatter(halokg_astro_out['r'],halokg_astro_out['vr'],s=0.9)\n",
        "plt.xlabel(r'$r_{gc}$')\n",
        "plt.ylabel(r'$v_r$')\n",
        "plt.show()\n",
        "###velocity vs  metallicity\n",
        "plt.scatter(halokg_astro_out['r'],halokg_astro_out['vtheta'],s=0.9)\n",
        "plt.xlabel('$r_{gc}$')\n",
        "plt.ylabel(r'$v_{\\theta}$')\n",
        "plt.show()\n",
        "###velocity vs  metallicity\n",
        "plt.scatter(halokg_astro_out['r'],halokg_astro_out['vphi'],s=0.9)\n",
        "plt.xlabel(r'$r_{gc}$')\n",
        "plt.ylabel(r'$v_{\\phi}$')\n",
        "plt.show()\n"
      ],
      "execution_count": null,
      "outputs": []
    },
    {
      "cell_type": "code",
      "metadata": {
        "id": "UbcdTnKFnaq3"
      },
      "source": [
        "###velocity vs  metallicity\n",
        "plt.scatter(halokg_astro_out['fe_h'],halokg_astro_out['vr'],s=0.9)\n",
        "plt.xlabel(r'$Fe/H$')\n",
        "plt.ylabel(r'$v_r$')\n",
        "plt.show()\n",
        "###velocity vs  metallicity\n",
        "plt.scatter(halokg_astro_out['fe_h'],halokg_astro_out['vtheta'],s=0.9)\n",
        "plt.xlabel('$Fe/H$')\n",
        "plt.ylabel(r'$v_{\\theta}$')\n",
        "plt.show()\n",
        "###velocity vs  metallicity\n",
        "plt.scatter(halokg_astro_out['fe_h'],halokg_astro_out['vphi'],s=0.9)\n",
        "plt.xlabel(r'$Fe/H$')\n",
        "plt.ylabel(r'$v_{\\phi}$')\n",
        "plt.show()"
      ],
      "execution_count": null,
      "outputs": []
    },
    {
      "cell_type": "code",
      "metadata": {
        "id": "Np0pCoS-9sVg"
      },
      "source": [
        "dfhalo['r'].max()"
      ],
      "execution_count": null,
      "outputs": []
    },
    {
      "cell_type": "code",
      "metadata": {
        "id": "puEjKHiF-FT2"
      },
      "source": [
        "x = np.random.rand(10)\n",
        "x"
      ],
      "execution_count": null,
      "outputs": []
    },
    {
      "cell_type": "code",
      "metadata": {
        "id": "rVQH7KLlznYS"
      },
      "source": [
        "r_gc = dfhalo['r']\n",
        "r_5 = (r_gc>=5.0) & (r_gc<10.)\n",
        "r_10 = (r_gc>=10.0) & (r_gc<15.)\n",
        "r_15 = (r_gc>=15.0) & (r_gc<20.)\n",
        "r_20 = (r_gc>=20.0) & (r_gc<25.)\n",
        "r_\n"
      ],
      "execution_count": null,
      "outputs": []
    },
    {
      "cell_type": "code",
      "metadata": {
        "id": "pUed-nBw1cNo"
      },
      "source": [
        "vr_5 = dfhalo[r_5]['vtheta']\n",
        "np.var(vr_5)"
      ],
      "execution_count": null,
      "outputs": []
    },
    {
      "cell_type": "code",
      "metadata": {
        "id": "IuuFzsG72s9s"
      },
      "source": [
        "vr_10 = dfhalo[r_10]['vr']\n",
        "np.var(vr_10)"
      ],
      "execution_count": null,
      "outputs": []
    },
    {
      "cell_type": "code",
      "metadata": {
        "id": "WEUFmp5ddDyE"
      },
      "source": [
        "rsig,tsig,psig=velocity_dispersion(halokg,R_gc)\n"
      ],
      "execution_count": null,
      "outputs": []
    },
    {
      "cell_type": "code",
      "metadata": {
        "id": "lbzLCjwSjNS4"
      },
      "source": [
        "import galpy\n",
        "#from galpy.potential import MWPotential2014 as pot\n",
        "from galpy.potential.mwpotentials import McMillan17 as pot\n",
        "from galpy.util.bovy_conversion import get_physical\n",
        "from galpy.actionAngle import actionAngleStaeckel\n",
        "from galpy.orbit import Orbit"
      ],
      "execution_count": null,
      "outputs": []
    },
    {
      "cell_type": "code",
      "metadata": {
        "id": "KnK5PQGXKD1A"
      },
      "source": [
        "# !pip install healpy\n",
        "import healpy as hp \n"
      ],
      "execution_count": null,
      "outputs": []
    },
    {
      "cell_type": "code",
      "metadata": {
        "id": "IOQmctYURKD_"
      },
      "source": [
        "#A routine to make scattter plot in mollweide\n",
        "def plot_molleweide(gl,gb,color_data,color_label,title):\n",
        "  gl[gl>180]-=360\n",
        "  plt.figure(figsize=(20,10))\n",
        "  ax=plt.subplot(111,projection='mollweide')\n",
        "  im=ax.scatter(np.radians(gl),np.radians(gb),alpha=1,s=7,c=color_data)\n",
        "  plt.title('%s(%dstars)'%(title,len(gl)))\n",
        "  plt.colorbar(im,label=color_label)\n",
        "  plt.show()\n",
        "  plt.clf()\n",
        "  plt.close()"
      ],
      "execution_count": null,
      "outputs": []
    },
    {
      "cell_type": "code",
      "metadata": {
        "id": "YK18z0oXSdir"
      },
      "source": [
        "plot_molleweide(halokg[0]['l'],halokg[0]['b'],halokg[0]['fe_h'],'Fe/H[dex]','Kgiants')\n",
        "plt.savefig('skydristribution.png')\n",
        "plt.close()"
      ],
      "execution_count": null,
      "outputs": []
    },
    {
      "cell_type": "code",
      "metadata": {
        "id": "E1cPjsPodn_F"
      },
      "source": [
        ""
      ],
      "execution_count": null,
      "outputs": []
    },
    {
      "cell_type": "code",
      "metadata": {
        "id": "LbLB4ibuTEWv"
      },
      "source": [
        "plt.scatter(halokg[0]['x'], halokg[0]['y'])\n",
        "plt.xlabel(r'$x$')\n",
        "plt.ylabel(r'$y$')\n",
        "plt.close\n"
      ],
      "execution_count": null,
      "outputs": []
    },
    {
      "cell_type": "code",
      "metadata": {
        "id": "K0KmY0mtTSyI"
      },
      "source": [
        "plt.scatter(halokg[0]['x'], halokg[0]['z'])\n",
        "plt.xlabel(r'$x$')\n",
        "plt.ylabel(r'$z$')"
      ],
      "execution_count": null,
      "outputs": []
    },
    {
      "cell_type": "code",
      "metadata": {
        "id": "ZcbJ9GYlTtaR"
      },
      "source": [
        "def plot_mwd(RA,Dec,org=0,title='Mollweide projection', projection='mollweide', ax=None):\n",
        "    ''' \n",
        "    RA, Dec are arrays of the same length.\n",
        "    RA takes values in [0,360), Dec in [-90,90],\n",
        "    which represent angles in degrees.\n",
        "    org is the origin of the plot, 0 or a multiple of 30 degrees in [0,360).\n",
        "    title is the title of the figure.\n",
        "    projection is the kind of projection: 'mollweide', 'aitoff', 'hammer', 'lambert'\n",
        "    '''\n",
        "    x = np.remainder(RA+360-org, 360) # shift RA values\n",
        "    ind = x>180\n",
        "    x[ind] -=360    # scale conversion to [-180, 180]\n",
        "    x=-x    # reverse the scale: East to the left\n",
        "    tick_labels = np.array([150, 120, 90, 60, 30, 0, 330, 300, 270, 240, 210])\n",
        "    tick_labels = np.remainder(tick_labels+360+org, 360)\n",
        "\n",
        "    if ax==None:\n",
        "        fig = plt.figure(figsize=(1.5*8, 1.5*4), dpi=100)\n",
        "        ax = fig.add_subplot(111, projection=projection)\n",
        "    ax.set_xticklabels(map(lambda x: '$'+np.str(x)+'^\\\\circ $', tick_labels), fontsize=17)\n",
        "    ax.get_yticklabels().set_fontsize = 20\n",
        "    return ax, np.radians(x), np.radians(Dec)"
      ],
      "execution_count": null,
      "outputs": []
    },
    {
      "cell_type": "code",
      "metadata": {
        "id": "XHdSOhUEXAgK"
      },
      "source": [
        "ax, x, y = plot_mwd(np.degrees(dfhalo['l']), np.degrees(dfhalo['b']), 180, ax=None)\n",
        "ax.plot(x, y, 'gs', mec='g', markersize=4, label='KG', mfc=\"None\")\n",
        "\n",
        "ax.set_xlabel('galactic longitude $(l)$', fontsize=22)\n",
        "ax.set_ylabel('galactic latitude $(b)$', fontsize=22)\n",
        "ax.grid(alpha=0.5, ls='dashed', lw=1.5)\n",
        "leg = ax.legend(loc=(0.15, 0.2), frameon=True,\n",
        "                fancybox=False, shadow=False, fontsize=18)\n"
      ],
      "execution_count": null,
      "outputs": []
    },
    {
      "cell_type": "code",
      "metadata": {
        "id": "_ugsUCPueZUH"
      },
      "source": [
        ""
      ],
      "execution_count": null,
      "outputs": []
    },
    {
      "cell_type": "code",
      "metadata": {
        "id": "0rxLC7b0G0Or"
      },
      "source": [
        ""
      ],
      "execution_count": null,
      "outputs": []
    }
  ]
}